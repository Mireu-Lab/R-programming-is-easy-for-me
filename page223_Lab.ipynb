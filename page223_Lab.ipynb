{
  "nbformat": 4,
  "nbformat_minor": 0,
  "metadata": {
    "colab": {
      "provenance": [],
      "authorship_tag": "ABX9TyNVt89FwU8W69P0/wm8kVUw",
      "include_colab_link": true
    },
    "kernelspec": {
      "name": "ir",
      "display_name": "R"
    },
    "language_info": {
      "name": "R"
    }
  },
  "cells": [
    {
      "cell_type": "markdown",
      "metadata": {
        "id": "view-in-github",
        "colab_type": "text"
      },
      "source": [
        "<a href=\"https://colab.research.google.com/github/Mireu-Lab/R-programming-is-easy-for-me/blob/main/page223_Lab.ipynb\" target=\"_parent\"><img src=\"https://colab.research.google.com/assets/colab-badge.svg\" alt=\"Open In Colab\"/></a>"
      ]
    },
    {
      "cell_type": "markdown",
      "source": [
        "# 되지도 않는 코드!"
      ],
      "metadata": {
        "id": "vKd86c-kTSJ2"
      }
    },
    {
      "cell_type": "code",
      "source": [
        "install.packages(\"svDialogs\")"
      ],
      "metadata": {
        "colab": {
          "base_uri": "https://localhost:8080/"
        },
        "id": "oaAvYaJMTq_r",
        "outputId": "747ddc29-79af-4aaa-baa2-758defbce454"
      },
      "execution_count": 1,
      "outputs": [
        {
          "output_type": "stream",
          "name": "stderr",
          "text": [
            "Installing package into ‘/usr/local/lib/R/site-library’\n",
            "(as ‘lib’ is unspecified)\n",
            "\n",
            "also installing the dependency ‘svGUI’\n",
            "\n",
            "\n"
          ]
        }
      ]
    },
    {
      "cell_type": "code",
      "execution_count": 2,
      "metadata": {
        "id": "21urnx1ZTMyd"
      },
      "outputs": [],
      "source": [
        "library(svDialogs)\n",
        "dlgInput()"
      ]
    },
    {
      "cell_type": "code",
      "source": [
        "height = dlgInput('Input height (cm) ')$res\n",
        "weight = dlgInput('Input weight (cm) ')$res\n",
        "\n",
        "height = as.numeric(height)\n",
        "weight = as.numeric(weight)\n",
        "\n",
        "height = height / 100\n",
        "bmi = weight / (height ^ 2)"
      ],
      "metadata": {
        "id": "nxjnJwDITdpd"
      },
      "execution_count": 12,
      "outputs": []
    },
    {
      "cell_type": "code",
      "source": [
        "sink('bmi.txt', append = T)\n",
        "\n",
        "cat(height*100, weight, bmi)\n",
        "cat('\\n')\n",
        "\n",
        "sink()"
      ],
      "metadata": {
        "colab": {
          "base_uri": "https://localhost:8080/",
          "height": 135
        },
        "id": "Y0Uh3JzBUQ2y",
        "outputId": "0b7335b9-c95a-4b4a-8a45-d4a2a4e9ffe3"
      },
      "execution_count": 11,
      "outputs": [
        {
          "output_type": "error",
          "ename": "ERROR",
          "evalue": "ignored",
          "traceback": [
            "Error in height * 100: non-numeric argument to binary operator\nTraceback:\n",
            "1. cat(height * 100, weight, bmi)"
          ]
        }
      ]
    },
    {
      "cell_type": "code",
      "source": [
        "result = read.table('bmi.txt', sep = \"  \")"
      ],
      "metadata": {
        "colab": {
          "base_uri": "https://localhost:8080/",
          "height": 153
        },
        "id": "lOhEOLmMV-rF",
        "outputId": "d096143a-b77c-4f5c-b1f3-e1daf45bb595"
      },
      "execution_count": 10,
      "outputs": [
        {
          "output_type": "error",
          "ename": "ERROR",
          "evalue": "ignored",
          "traceback": [
            "Error in read.table(\"bmi.txt\", sep = \"  \"): no lines available in input\nTraceback:\n",
            "1. read.table(\"bmi.txt\", sep = \"  \")",
            "2. stop(\"no lines available in input\")"
          ]
        }
      ]
    },
    {
      "cell_type": "code",
      "source": [
        "names(result) = c('height', 'weight', 'bmi')\n",
        "\n",
        "write.table(result, 'bmi_new.txt', row.names = F)"
      ],
      "metadata": {
        "colab": {
          "base_uri": "https://localhost:8080/",
          "height": 101
        },
        "id": "4orlWI3XYpW0",
        "outputId": "737e8e4e-c55e-410b-ef32-6cbcfa9782bf"
      },
      "execution_count": 9,
      "outputs": [
        {
          "output_type": "error",
          "ename": "ERROR",
          "evalue": "ignored",
          "traceback": [
            "Error: object 'result' not found\nTraceback:\n"
          ]
        }
      ]
    }
  ]
}