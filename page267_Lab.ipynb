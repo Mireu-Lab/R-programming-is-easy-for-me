{
  "nbformat": 4,
  "nbformat_minor": 0,
  "metadata": {
    "colab": {
      "provenance": [],
      "authorship_tag": "ABX9TyMerdI4h9uqUqIB7E/31D/D",
      "include_colab_link": true
    },
    "kernelspec": {
      "name": "ir",
      "display_name": "R"
    },
    "language_info": {
      "name": "R"
    }
  },
  "cells": [
    {
      "cell_type": "markdown",
      "metadata": {
        "id": "view-in-github",
        "colab_type": "text"
      },
      "source": [
        "<a href=\"https://colab.research.google.com/github/Mireu-Lab/R-programming-is-easy-for-me/blob/main/page267_Lab.ipynb\" target=\"_parent\"><img src=\"https://colab.research.google.com/assets/colab-badge.svg\" alt=\"Open In Colab\"/></a>"
      ]
    },
    {
      "cell_type": "code",
      "execution_count": null,
      "metadata": {
        "id": "PY9aax_lmzJk"
      },
      "outputs": [],
      "source": [
        "ChildSpeaks\n",
        "ChildSpeaks[which.min(ChildSpeaks$total),]"
      ]
    },
    {
      "cell_type": "code",
      "source": [
        "idx = which(ChildSpeaks$Age < 9)\n",
        "ChildSpeaks[idx, 'm1'] = 5\n",
        "idx = which(ChildSpeaks$Age >= 9 & ChildSpeaks$Age < 15)\n",
        "ChildSpeaks[idx, 'm1'] = 4\n",
        "idx = which(ChildSpeaks$Age >= 15 & ChildSpeaks$Age < 21)\n",
        "ChildSpeaks[idx, 'm1'] = 3\n",
        "idx = which(ChildSpeaks$Age >= 21 & ChildSpeaks$Age < 27)\n",
        "ChildSpeaks[idx, 'm1'] = 2\n",
        "idx = which(ChildSpeaks$Age >= 27)\n",
        "ChildSpeaks[idx, 'm1'] = 1"
      ],
      "metadata": {
        "id": "eDn6VigRm7Nb"
      },
      "execution_count": null,
      "outputs": []
    },
    {
      "cell_type": "code",
      "source": [
        "idx = which(ChildSpeaks$Gesell < 70)\n",
        "ChildSpeaks$m2[idx] = 1\n",
        "idx = which(ChildSpeaks$Gesell >= 70 & ChildSpeaks$Gesell < 90)\n",
        "ChildSpeaks$m2[idx] = 2\n",
        "idx = which(ChildSpeaks$Gesell >= 90 & ChildSpeaks$Gesell < 110)\n",
        "ChildSpeaks$m2[idx] = 3\n",
        "idx = which(ChildSpeaks$Gesell >= 110 & ChildSpeaks$Gesell < 130)\n",
        "ChildSpeaks$m2[idx] = 4\n",
        "idx = which(ChildSpeaks$Gesell >= 130)\n",
        "ChildSpeaks$m2[idx] = 5"
      ],
      "metadata": {
        "id": "2AFfINLNm8iT"
      },
      "execution_count": null,
      "outputs": []
    },
    {
      "cell_type": "code",
      "source": [
        "ChildSpeaks$total = ChildSpeaks$m1 + ChildSpeaks$m2"
      ],
      "metadata": {
        "id": "BaTE5BXDm_m5"
      },
      "execution_count": null,
      "outputs": []
    },
    {
      "cell_type": "code",
      "source": [
        "idx = which(ChildSpeaks$Age < 3)\n",
        "ChildSpeaks$result[idx] = '매우느림'\n",
        "idx = which(ChildSpeaks$Age >= 3 & ChildSpeaks$Age < 5)\n",
        "ChildSpeaks$result[idx] = '느림'\n",
        "idx = which(ChildSpeaks$Age >= 5 & ChildSpeaks$Age < 7)\n",
        "ChildSpeaks$result[idx] = '보통'\n",
        "idx = which(ChildSpeaks$Age >= 7 & ChildSpeaks$Age < 9)\n",
        "ChildSpeaks$result[idx] = '빠름'\n",
        "idx = which(ChildSpeaks$Age >= 9)\n",
        "ChildSpeaks$result[idx] = '매우빠름'"
      ],
      "metadata": {
        "id": "bmVMqMNynAys"
      },
      "execution_count": null,
      "outputs": []
    },
    {
      "cell_type": "code",
      "source": [
        "ChildSpeaks\n",
        "ChildSpeaks[which.min(ChildSpeaks$total),]"
      ],
      "metadata": {
        "id": "1Wl11VminCa3"
      },
      "execution_count": null,
      "outputs": []
    }
  ]
}