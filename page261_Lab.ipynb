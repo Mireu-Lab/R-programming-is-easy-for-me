{
  "nbformat": 4,
  "nbformat_minor": 0,
  "metadata": {
    "colab": {
      "provenance": [],
      "authorship_tag": "ABX9TyP/YXowiRxG5YRBYY1WU3zT",
      "include_colab_link": true
    },
    "kernelspec": {
      "name": "ir",
      "display_name": "R"
    },
    "language_info": {
      "name": "R"
    }
  },
  "cells": [
    {
      "cell_type": "markdown",
      "metadata": {
        "id": "view-in-github",
        "colab_type": "text"
      },
      "source": [
        "<a href=\"https://colab.research.google.com/github/Mireu-Lab/R-programming-is-easy-for-me/blob/main/page261_Lab.ipynb\" target=\"_parent\"><img src=\"https://colab.research.google.com/assets/colab-badge.svg\" alt=\"Open In Colab\"/></a>"
      ]
    },
    {
      "cell_type": "code",
      "execution_count": 10,
      "metadata": {
        "id": "wtpovyT0C7y8"
      },
      "outputs": [],
      "source": [
        "determine = function(score) {\n",
        "  total = apply(score, 1, sum) # 점수 데이터시트를 받은걸 sum 진행\n",
        "  scoreset = cbind(score, total) # Total 행 추가\n",
        "\n",
        "  result = c() # 결과물 저장 list and return 변수\n",
        "\n",
        "  for (i in 1:nrow(scoreset)) {\n",
        "    if (scoreset[i,1] < 20*0.4 | scoreset[i,2] < 20*0.4 | scoreset[i,3] < 60*0.4) {\n",
        "      result[i] = '불합격'\n",
        "    } else if (scoreset[i,4] >= 60) {\n",
        "      result[i] = '합격'\n",
        "    } else {\n",
        "      result[i] = '불합격'\n",
        "    }\n",
        "  }\n",
        "\n",
        "  return(result)\n",
        "}\n"
      ]
    },
    {
      "cell_type": "code",
      "source": [
        "sub1 = c(14, 16, 12, 20,  8,  6, 12, 18, 16, 10)\n",
        "sub2 = c(18, 14, 14, 16, 10, 12, 10, 20, 14, 14)\n",
        "sub3 = c(44, 38, 30, 48, 42, 50, 36, 52, 54, 32)\n",
        "\n",
        "score = data.frame(sub1, sub2, sub3) # 데이터 시트 구현\n",
        "\n",
        "result = determine(head(score, 3)) # 내장변수에 대입후 함수 실행"
      ],
      "metadata": {
        "id": "W3UAnAQZM6Ca"
      },
      "execution_count": 11,
      "outputs": []
    }
  ]
}