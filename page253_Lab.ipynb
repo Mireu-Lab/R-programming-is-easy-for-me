{
  "nbformat": 4,
  "nbformat_minor": 0,
  "metadata": {
    "colab": {
      "provenance": [],
      "authorship_tag": "ABX9TyPQ6xtcozFpwc6cgXrqAvMe",
      "include_colab_link": true
    },
    "kernelspec": {
      "name": "python3",
      "display_name": "Python 3"
    },
    "language_info": {
      "name": "python"
    }
  },
  "cells": [
    {
      "cell_type": "markdown",
      "metadata": {
        "id": "view-in-github",
        "colab_type": "text"
      },
      "source": [
        "<a href=\"https://colab.research.google.com/github/Mireu-Lab/R-programming-is-easy-for-me/blob/main/page253_Lab.ipynb\" target=\"_parent\"><img src=\"https://colab.research.google.com/assets/colab-badge.svg\" alt=\"Open In Colab\"/></a>"
      ]
    },
    {
      "cell_type": "code",
      "execution_count": null,
      "metadata": {
        "id": "VPnNJO3oTrH-"
      },
      "outputs": [],
      "source": [
        "sub1 <- c(14, 16, 12, 20, 8, 6, 12, 18, 16, 10)\n",
        "sub2 <- c(18, 14, 14, 16, 10, 12, 10, 20, 14, 14)\n",
        "sub3 <- c(44, 38, 30, 48, 42, 50, 36, 52, 54, 32)\n",
        "\n",
        "score <- data.frame(sub1, sub2, sub3)"
      ]
    },
    {
      "cell_type": "code",
      "source": [
        "total = apply(score, 1, sum)\n",
        "scoreset = cbind(score, total)"
      ],
      "metadata": {
        "id": "l1kQnYsiVIs7"
      },
      "execution_count": null,
      "outputs": []
    },
    {
      "cell_type": "code",
      "source": [
        "result = c()"
      ],
      "metadata": {
        "id": "HFny8yG5VVDV"
      },
      "execution_count": null,
      "outputs": []
    },
    {
      "cell_type": "code",
      "source": [
        "for (i in 1:nrow(scoreset)) {\n",
        "    if (scoreset[i,1] < 20*0.4 | scoreset[i,2] < 20*0.4  | scoreset[i,3] < 60*0.4) {\n",
        "        result[i] = \"불합격\"\n",
        "    } else if (scoreset[i,4] >= 60) {\n",
        "        result[i] = \"합격\"\n",
        "    } else {\n",
        "        result[i] = \"불합격\"\n",
        "    }\n",
        "}"
      ],
      "metadata": {
        "colab": {
          "base_uri": "https://localhost:8080/",
          "height": 135
        },
        "id": "0Do4F7dCvSDc",
        "outputId": "9abc3e9e-b354-4e2c-c971-ed927a0fc8c2"
      },
      "execution_count": 1,
      "outputs": [
        {
          "output_type": "error",
          "ename": "SyntaxError",
          "evalue": "ignored",
          "traceback": [
            "\u001b[0;36m  File \u001b[0;32m\"<ipython-input-1-c485a534abed>\"\u001b[0;36m, line \u001b[0;32m1\u001b[0m\n\u001b[0;31m    for (i in 1:nrow(scoreset)) {\u001b[0m\n\u001b[0m               ^\u001b[0m\n\u001b[0;31mSyntaxError\u001b[0m\u001b[0;31m:\u001b[0m invalid syntax\n"
          ]
        }
      ]
    }
  ]
}