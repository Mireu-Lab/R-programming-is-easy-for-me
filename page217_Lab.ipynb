{
  "nbformat": 4,
  "nbformat_minor": 0,
  "metadata": {
    "colab": {
      "provenance": [],
      "authorship_tag": "ABX9TyOzUr8Vu61EWsmSAn1pAaZe",
      "include_colab_link": true
    },
    "kernelspec": {
      "name": "ir",
      "display_name": "R"
    },
    "language_info": {
      "name": "R"
    }
  },
  "cells": [
    {
      "cell_type": "markdown",
      "metadata": {
        "id": "view-in-github",
        "colab_type": "text"
      },
      "source": [
        "<a href=\"https://colab.research.google.com/github/Mireu-Lab/R-programming-is-easy-for-me/blob/main/page217_Lab.ipynb\" target=\"_parent\"><img src=\"https://colab.research.google.com/assets/colab-badge.svg\" alt=\"Open In Colab\"/></a>"
      ]
    },
    {
      "cell_type": "code",
      "execution_count": null,
      "metadata": {
        "id": "q4j9LBeqJAr2"
      },
      "outputs": [],
      "source": [
        "# 디랙토리 설정\n",
        "setwd(\"./Shiny\")"
      ]
    },
    {
      "cell_type": "code",
      "source": [
        "library(ggplot2)\n",
        "\n",
        "str(diamonds)"
      ],
      "metadata": {
        "colab": {
          "base_uri": "https://localhost:8080/"
        },
        "id": "abL76MTdKLRg",
        "outputId": "3e7b10df-1e68-4346-a3fa-8e5dd79b7ef3"
      },
      "execution_count": null,
      "outputs": [
        {
          "output_type": "stream",
          "name": "stdout",
          "text": [
            "tibble [53,940 × 10] (S3: tbl_df/tbl/data.frame)\n",
            " $ carat  : num [1:53940] 0.23 0.21 0.23 0.29 0.31 0.24 0.24 0.26 0.22 0.23 ...\n",
            " $ cut    : Ord.factor w/ 5 levels \"Fair\"<\"Good\"<..: 5 4 2 4 2 3 3 3 1 3 ...\n",
            " $ color  : Ord.factor w/ 7 levels \"D\"<\"E\"<\"F\"<\"G\"<..: 2 2 2 6 7 7 6 5 2 5 ...\n",
            " $ clarity: Ord.factor w/ 8 levels \"I1\"<\"SI2\"<\"SI1\"<..: 2 3 5 4 2 6 7 3 4 5 ...\n",
            " $ depth  : num [1:53940] 61.5 59.8 56.9 62.4 63.3 62.8 62.3 61.9 65.1 59.4 ...\n",
            " $ table  : num [1:53940] 55 61 65 58 58 57 57 55 61 61 ...\n",
            " $ price  : int [1:53940] 326 326 327 334 335 336 336 337 337 338 ...\n",
            " $ x      : num [1:53940] 3.95 3.89 4.05 4.2 4.34 3.94 3.95 4.07 3.87 4 ...\n",
            " $ y      : num [1:53940] 3.98 3.84 4.07 4.23 4.35 3.96 3.98 4.11 3.78 4.05 ...\n",
            " $ z      : num [1:53940] 2.43 2.31 2.31 2.63 2.75 2.48 2.47 2.53 2.49 2.39 ...\n"
          ]
        }
      ]
    },
    {
      "cell_type": "code",
      "source": [
        "# 커팅 품질이 프리미엄일때 2캐럿 이상인 데이터셋를 추출하여 서브셋에 저장\n",
        "diamonds.new = subset(diamonds, cut=='Proemium' & carat >= 2)\n",
        "\n",
        "# diamonds.new에 저장된 데이터셋을 diamonds.csv에 저장\n",
        "write.csv(diamonds.new, 'diamonds.csv', row.names=F)\n",
        "\n",
        "# CSV File 읽기\n",
        "diamonds.load = read.csv('diamonds.csv', header = T)\n",
        "\n",
        "# 데이터셋 추출후 서브셋에 저장\n",
        "diamonds.new = subset(diamonds.load, color != 'D')"
      ],
      "metadata": {
        "id": "bP26tqwtKjUa"
      },
      "execution_count": null,
      "outputs": []
    },
    {
      "cell_type": "code",
      "source": [
        "# 엑셀 File 라이브러리\n",
        "library(xlsx)\n",
        "\n",
        "# 데이터셋을 엑셀 File에 저장\n",
        "write.xlsx(diamonds.new, 'diamonds.xlsx', row.names = F)"
      ],
      "metadata": {
        "id": "0RMGhDpJjP9C"
      },
      "execution_count": null,
      "outputs": []
    }
  ]
}